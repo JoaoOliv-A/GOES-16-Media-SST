{
  "cells": [
    {
      "cell_type": "markdown",
      "metadata": {
        "id": "view-in-github",
        "colab_type": "text"
      },
      "source": [
        "<a href=\"https://colab.research.google.com/github/JoaoOliv-A/GOES-16-Media-SST/blob/main/UltimoCodSST.ipynb\" target=\"_parent\"><img src=\"https://colab.research.google.com/assets/colab-badge.svg\" alt=\"Open In Colab\"/></a>"
      ]
    },
    {
      "cell_type": "code",
      "execution_count": null,
      "metadata": {
        "id": "odj1wgLEBRPG"
      },
      "outputs": [],
      "source": [
        "################# Bibliotecas importadas para execução do cod ######################\n",
        "\n",
        "!pip install xarray\n",
        "!pip install goes2go\n",
        "!pip install rioxarray\n",
        "!pip install geopandas\n",
        "!pip install matplotlib\n",
        "!pip install pandas==2.2.2\n",
        "!pip install numpy\n",
        "!pip install netCDF4\n",
        "!pip install dask"
      ]
    },
    {
      "cell_type": "code",
      "execution_count": null,
      "metadata": {
        "id": "kxZ86vTaKbOp"
      },
      "outputs": [],
      "source": [
        "################# Download do arquivos nc por periodo ######################\n",
        "\n",
        "#  -> nuvem pública da Amazon Web Services (AWS)\n",
        "\n",
        "from goes2go import GOES\n",
        "\n",
        "from datetime import datetime, timedelta\n",
        "\n",
        "# Defina o intervalo de datas\n",
        "G = GOES(satellite=16, product=\"ABI-L2-SSTF\", domain='C')\n",
        "\n",
        "start_date = datetime(2024, 2, 1)\n",
        "end_date = datetime(2024, 2, 29)\n",
        "\n",
        "for day in range((end_date - start_date).days + 1):\n",
        "    current_date = start_date + timedelta(days=day)\n",
        "    start_time_str = current_date.strftime('%Y-%m-%d 00:00')\n",
        "    end_time_str = current_date.strftime('%Y-%m-%d 23:00')\n",
        "\n",
        "    files = G.timerange(start=start_time_str, end=end_time_str)\n",
        "\n",
        "    # Mostra todos os arquivos disponíveis para o dia atual\n",
        "    for file in files:\n",
        "        print(file)"
      ]
    },
    {
      "source": [
        "\n",
        "################# Codigo para calculo, reprojeção e novo nc ######################\n",
        "\n",
        "\n",
        "import gc\n",
        "import rioxarray as rxr\n",
        "import numpy as np\n",
        "import pandas as pd\n",
        "import os\n",
        "import xarray as xr\n",
        "from glob import glob\n",
        "from pathlib import Path\n",
        "import matplotlib.pyplot as plt\n",
        "\n",
        "epsg = 4674\n",
        "\n",
        "# Defina o caminho base onde os arquivos estão localizados\n",
        "base_path = '/root/data/noaa-goes16/ABI-L2-SSTF'\n",
        "# Use glob para buscar todos os arquivos .nc em subdiretórios\n",
        "pattern = os.path.join(base_path, '**', '*.nc')\n",
        "arqs = glob(pattern, recursive=True)\n",
        "\n",
        "# Função para salvar a média calculada em um arquivo NetCDF\n",
        "def salvar_media(mes_ano, da_media_mensal, caminho_arquivo):\n",
        "    da_media_mensal.to_netcdf(caminho_arquivo)\n",
        "\n",
        "# Função para plotar e salvar a média\n",
        "def plotar_media(da_media_mensal, mes_ano):\n",
        "    plt.figure(figsize=(10, 7))\n",
        "    da_media_mensal.plot(cmap='jet')\n",
        "    plt.title(f'Média de Temperatura em °C - {mes_ano}')\n",
        "    plt.grid(True)\n",
        "    plt.savefig(f'MediaMensal_{mes_ano}.png')\n",
        "\n",
        "# Dicionário para armazenar dados mensais\n",
        "dados_mensais = {}\n",
        "\n",
        "# Processamento dos arquivos\n",
        "for arq in arqs:\n",
        "    arq = Path(arq)\n",
        "    strTempo = arq.name.split('_')[3][1:]\n",
        "    data = pd.to_datetime(strTempo, format='%Y%j%H%M%S%f')\n",
        "    mes_ano = data.strftime('%d-%m')\n",
        "\n",
        "    # Abrir o arquivo NetCDF\n",
        "    dsTemp = rxr.open_rasterio(arq, chunks={'x': 600, 'y': 600})\n",
        "    daTempKelvin = dsTemp['SST'][0]\n",
        "\n",
        "    # Filtrar valores de preenchimento\n",
        "    daTempKelvin = daTempKelvin.where(daTempKelvin != 65535)\n",
        "\n",
        "    # Aplicar o scale_factor e o add_offset\n",
        "    scale_factor = daTempKelvin.attrs.get('scale_factor', 1.0)\n",
        "    add_offset = daTempKelvin.attrs.get('add_offset', 0.0)\n",
        "\n",
        "    # Calcular a temperatura em Kelvin\n",
        "    daTempKelvin = (daTempKelvin * scale_factor) + add_offset\n",
        "\n",
        "    # Converter para Celsius e filtrar valores anômalos\n",
        "    daTempCelsius = daTempKelvin - 273.15\n",
        "    daTempCelsius = daTempCelsius.where((daTempCelsius > -30) & (daTempCelsius < 50))\n",
        "\n",
        "    # Armazenar os dados na lista do mês correspondente\n",
        "    if mes_ano not in dados_mensais:\n",
        "        dados_mensais[mes_ano] = []\n",
        "    dados_mensais[mes_ano].append(daTempCelsius)\n",
        "\n",
        "    # Limpar a memória após cada iteração\n",
        "    rec = dsTemp['SST'][0]\n",
        "    del dsTemp, daTempKelvin, daTempCelsius\n",
        "    gc.collect()\n",
        "\n",
        "\n",
        "# Calcular a média para cada mês, fazer a reprojeção, e salvar\n",
        "for mes_ano, lista_dados in dados_mensais.items():\n",
        "    # Alinhar dimensões dos dados e calcular a média ignorando NaNs\n",
        "    stack_dados = np.stack([da.values for da in lista_dados], axis=0)\n",
        "    media_mensal = np.nanmean(stack_dados, axis=0)\n",
        "\n",
        "    # Criar um novo Dataset com a média mensal e a variável SST\n",
        "    ds_media_mensal = xr.Dataset(\n",
        "    {'SST': ([ 'y','x'], media_mensal)},\n",
        "    coords={'y': lista_dados[0].coords['y'], 'x': lista_dados[0].coords['x']},\n",
        "    attrs={'units': '°C', 'scale_factor': 1.0, 'add_offset': 0.0, 'EPSG': epsg}\n",
        "    )\n",
        "\n",
        "    # Reprojetar a média mensal antes de plotar\n",
        "    ds_media_mensal = ds_media_mensal.rio.write_crs(rec.rio.crs)\n",
        "    ds_media_mensal_reprojetado =  ds_media_mensal.rio.reproject(dst_crs=f'EPSG:{epsg}')\n",
        "\n",
        "    # Salvar a média em um arquivo NetCDF\n",
        "    caminho_arquivo = f'/root/data/noaa-goes16/media_{mes_ano}.nc'\n",
        "    salvar_media(mes_ano, ds_media_mensal_reprojetado, caminho_arquivo)\n",
        "\n",
        "\n",
        "    # Limpar a memória após salvar e plotar\n",
        "    del stack_dados, media_mensal, ds_media_mensal, ds_media_mensal_reprojetado\n",
        "    gc.collect()"
      ],
      "cell_type": "code",
      "metadata": {
        "id": "Ag0OgEo9RMNP"
      },
      "execution_count": null,
      "outputs": []
    },
    {
      "cell_type": "code",
      "source": [
        "################# Copiar para o drive ######################\n",
        "\n",
        "!cp -r /root/data/noaa-goes16/ /content/drive/MyDrive"
      ],
      "metadata": {
        "id": "_MuRZ8ZvqrWf"
      },
      "execution_count": null,
      "outputs": []
    }
  ],
  "metadata": {
    "accelerator": "TPU",
    "colab": {
      "gpuType": "V28",
      "provenance": [],
      "mount_file_id": "1QZpEvOHICL43LIikq45pRiydpNjtmEqw",
      "authorship_tag": "ABX9TyNHcBkec8rXkRZ/3WZ+QDPS",
      "include_colab_link": true
    },
    "kernelspec": {
      "display_name": "Python 3",
      "name": "python3"
    },
    "language_info": {
      "name": "python"
    }
  },
  "nbformat": 4,
  "nbformat_minor": 0
}